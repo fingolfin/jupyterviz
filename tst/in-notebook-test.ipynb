{
 "cells": [
  {
   "cell_type": "markdown",
   "metadata": {},
   "source": [
    "# Testing the `jupyterviz` package\n",
    "\n",
    "Nathan Carter, October 2018\n",
    "\n",
    "## Load the module"
   ]
  },
  {
   "cell_type": "code",
   "execution_count": 1,
   "metadata": {},
   "outputs": [
    {
     "data": {
      "text/plain": [
       "true"
      ]
     },
     "execution_count": 1,
     "metadata": {
      "text/plain": ""
     },
     "output_type": "execute_result"
    }
   ],
   "source": [
    "LoadPackage( \"jupyterviz\" );"
   ]
  },
  {
   "cell_type": "markdown",
   "metadata": {},
   "source": [
    "## Test visualization with [Plotly](https://plot.ly/)\n",
    "\n",
    "For $n=1$ to $50$, how many divisors does $n$ have?\n",
    "\n",
    "Hover over the graph for popup information."
   ]
  },
  {
   "cell_type": "code",
   "execution_count": 2,
   "metadata": {},
   "outputs": [
    {
     "data": {
      "application/javascript": [
       "( function ( element ) {\n",
       "if(!window.hasOwnProperty(\"runGAP\")){window.runGAP=function(code,callback){if(!Jupyter||!Jupyter.notebook||!Jupyter.notebook.kernel)return callback(null,\"JavaScript-based output must be re-evaluated when the notebook\"+\" is reloaded.  (Re-run the cell to clear this problem.)\");var errorMessages=[];var timeout=null;Jupyter.notebook.kernel.execute(code,{iopub:{output:function(message){if(\"data\"in message.content)return callback(message.content.data,null);if(!(\"text\"in message.content))return callback(null,message.content);errorMessages.push(message.content.text);if(timeout!==null)clearTimeout(timeout);timeout=setTimeout(function(){callback(null,errorMessages.join(\"\\n\"))},200)},clear_output:function(message){}},shell:{reply:function(message){}},input:function(message){}},{})}}if(!window.hasOwnProperty(\"librariesLoadedFromGAP\")){window.librariesLoadedFromGAP={}}function myCallback(){if(!window.hasOwnProperty(\"librariesLoadedFromGAP\")){window.librariesLoadedFromGAP={}}function myCallback(){window.createVisualization(element,{\"data\" : {\"data\" : [{\"x\" : [1,2,3,4,5,6,7,8,9,10,11,12,13,14,15,16,17,18,19,20,21,22,23,24,25,26,27,28,29,30,31,32,33,34,35,36,37,38,39,40,41,42,43,44,45,46,47,48,49,50],\"y\" : [1,2,2,3,2,4,2,4,3,4,2,6,2,4,4,5,2,6,2,6,4,4,2,8,3,4,4,6,2,8,2,6,4,4,4,9,2,4,4,8,2,8,2,6,6,4,2,10,3,6],\"type\" : \"bar\"}],\"layout\" : {\"height\" : 400}},\"tool\" : \"plotly\"}\n",
       ",function(element,visualization){\n",
       "});\n",
       "}if(window.librariesLoadedFromGAP.hasOwnProperty(\"viz-tool-plotly\"\n",
       ")){myCallback()}else{var filenameString=JSON.stringify(\"viz-tool-plotly\"\n",
       ");var GAPcode=\"JUPVIZFileContents( LoadJavaScriptFile( \"+filenameString+\" ) );\";window.runGAP(GAPcode,function(result,error){if(error)throw Error(\"When loading library \"+filenameString+\": \"+error);result=result[\"text/plain\"];window.librariesLoadedFromGAP[\"viz-tool-plotly\"\n",
       "]=result;try{var whatItEvaluatesTo=eval(result)}catch(e){throw Error(\"Error evaluating code for library \"+filenameString+\": \"+e)}return myCallback()})}\n",
       "}if(window.librariesLoadedFromGAP.hasOwnProperty(\"main\"\n",
       ")){myCallback()}else{var filenameString=JSON.stringify(\"main\"\n",
       ");var GAPcode=\"JUPVIZFileContents( LoadJavaScriptFile( \"+filenameString+\" ) );\";window.runGAP(GAPcode,function(result,error){if(error)throw Error(\"When loading library \"+filenameString+\": \"+error);result=result[\"text/plain\"];window.librariesLoadedFromGAP[\"main\"\n",
       "]=result;try{var whatItEvaluatesTo=eval(result)}catch(e){throw Error(\"Error evaluating code for library \"+filenameString+\": \"+e)}return myCallback()})}\n",
       ";\n",
       "} )( element.get( 0 ) )"
      ]
     },
     "execution_count": 2,
     "metadata": {
      "application/javascript": ""
     },
     "output_type": "execute_result"
    }
   ],
   "source": [
    "CreateVisualization( rec(\n",
    "    tool := \"plotly\",\n",
    "    data := rec(\n",
    "        data := [\n",
    "            rec(\n",
    "                x := [1..50], \n",
    "                y := List( [1..50], n -> Length(DivisorsInt(n)) ), \n",
    "                type := \"bar\"\n",
    "            )\n",
    "        ],\n",
    "        layout := rec( height := 400 )\n",
    "    )\n",
    "), \"\" );"
   ]
  },
  {
   "cell_type": "markdown",
   "metadata": {},
   "source": [
    "## Load more complex Plotly chart from JSON file\n",
    "\n",
    "This JSON file was [downloaded from the Plotly gallery](https://plot.ly/~Dreamshot/9298), and contains data about number of electric vehicle charge points installed in 2017, worldwide.\n",
    "\n",
    "Hover the graph for more information."
   ]
  },
  {
   "cell_type": "code",
   "execution_count": 7,
   "metadata": {},
   "outputs": [
    {
     "data": {
      "application/javascript": [
       "( function ( element ) {\n",
       "if(!window.hasOwnProperty(\"runGAP\")){window.runGAP=function(code,callback){if(!Jupyter||!Jupyter.notebook||!Jupyter.notebook.kernel)return callback(null,\"JavaScript-based output must be re-evaluated when the notebook\"+\" is reloaded.  (Re-run the cell to clear this problem.)\");var errorMessages=[];var timeout=null;Jupyter.notebook.kernel.execute(code,{iopub:{output:function(message){if(\"data\"in message.content)return callback(message.content.data,null);if(!(\"text\"in message.content))return callback(null,message.content);errorMessages.push(message.content.text);if(timeout!==null)clearTimeout(timeout);timeout=setTimeout(function(){callback(null,errorMessages.join(\"\\n\"))},200)},clear_output:function(message){}},shell:{reply:function(message){}},input:function(message){}},{})}}if(!window.hasOwnProperty(\"librariesLoadedFromGAP\")){window.librariesLoadedFromGAP={}}function myCallback(){if(!window.hasOwnProperty(\"librariesLoadedFromGAP\")){window.librariesLoadedFromGAP={}}function myCallback(){window.createVisualization(element,{\"data\" : {\"data\" : [{\"z\" : [\"11987\",\"7937\",\"2833\",\"2716\",\"2232\",\"2232\",\"2116\",\"1680\",\"1136\",\"\",\"1109\",\"1070\",\"956\",\"633\",\"536\",\"532\",\"514\",\"500\",\"364\",\"270\",\"245\",\"215\",\"173\",\"163\",\"149\",\"129\",\"93\",\"89\",\"79\",\"79\",\"61\",\"54\",\"44\",\"42\",\"40\",\"36\",\"35\",\"35\",\"33\",\"32\",\"21\",\"18\",\"17\",\"15\",\"14\",\"14\",\"12\",\"10\",\"10\",\"9\",\"9\",\"9\",\"8\",\"8\",\"7\",\"6\",\"6\",\"6\",\"5\",\"5\",\"5\",\"4\",\"4\",\"4\",\"4\",\"3\",\"2\",\"2\",\"2\",\"2\",\"2\",\"2\",\"2\",\"2\",\"2\",\"2\",\"1\",\"1\",\"1\",\"1\",\"1\",\"1\",\"1\",\"1\",\"1\",\"1\",\"1\",\"1\",\"1\",\"1\",\"1\",\"1\",\"0\",\"0\",\"0\",\"0\",\"0\",\"0\",\"0\",\"0\",\"0\",\"0\",\"0\",\"0\",\"0\",\"0\",\"0\",\"0\",\"0\",\"0\",\"0\",\"0\",\"0\",\"0\",\"0\",\"0\",\"0\",\"0\",\"0\",\"0\",\"0\",\"0\",\"0\",\"0\",\"0\",\"0\",\"0\",\"0\",\"0\",\"0\",\"0\",\"0\",\"0\",\"0\",\"0\",\"0\",\"0\",\"0\",\"0\",\"0\",\"0\",\"0\",\"0\",\"0\",\"0\",\"0\",\"0\",\"0\",\"0\",\"0\",\"0\",\"0\",\"0\",\"0\",\"0\",\"0\",\"0\",\"0\",\"0\",\"0\",\"0\",\"0\",\"0\",\"0\",\"0\",\"0\",\"0\",\"0\",\"0\",\"0\",\"0\",\"0\",\"0\",\"0\",\"0\",\"0\",\"0\",\"0\",\"0\",\"0\",\"0\",\"0\",\"0\",\"0\",\"0\",\"0\",\"0\",\"0\",\"0\",\"0\",\"0\",\"0\",\"0\",\"0\",\"0\",\"0\",\"0\",\"0\",\"0\",\"0\",\"0\",\"0\",\"0\",\"0\",\"0\",\"0\",\"0\",\"0\",\"0\",\"0\",\"0\",\"0\",\"0\",\"0\",\"0\",\"0\",\"0\",\"0\",\"0\",\"0\",\"0\",\"0\",\"0\",\"0\",\"0\",\"0\",\"0\",\"0\",\"0\",\"0\",\"0\",\"0\",\"0\",\"0\",\"0\",\"0\",\"0\",\"0\",\"0\",\"0\",\"0\",\"0\"],\"name\" : \"B\",\"type\" : \"choropleth\",\"autocolorscale\" : false,\"colorbar\" : {\"title\" : \"\",\"thickness\" : 10},\"colorscale\" : [[0,\"rgb(220,220,220)\"],[0.20000000000000001,\"rgb(245,195,157)\"],[0.40000000000000002,\"rgb(245,160,105)\"],[1,\"rgb(178,10,28)\"]],\"locationmode\" : \"country names\",\"locations\" : [\"France\",\"Germany\",\"U.K.\",\"Switzerland\",\"Austria\",\"Austria\",\"Norway\",\"Italy\",\"Belgium\",\"\",\"Sweden\",\"Canada\",\"Spain\",\"Ukraine\",\"Denmark\",\"U.S.\",\"Portugal\",\"Ireland\",\"Finland\",\"Czech Republic\",\"Slovenia\",\"Hungary\",\"Luxembourg\",\"Estonia\",\"Croatia\",\"Poland\",\"Russia\",\"Slovakia\",\"Australia\",\"Australia\",\"Romania\",\"Malta\",\"Greece\",\"Reunion\",\"Andorra\",\"Monaco\",\"Latvia\",\"Bulgaria\",\"Iceland\",\"Lithuania\",\"China\",\"New Zealand\",\"Liechtenstein\",\"Sri Lanka\",\"Turkey\",\"Hong Kong SAR China\",\"South Africa\",\"Bosnia and Herzgovina\",\"Albania\",\"Japan\",\"Serbia\",\"Puerto Rico\",\"Cayman Islands\",\"Brazil\",\"Morocco\",\"Faroe Islands\",\"South Korea\",\"Belarus\",\"Chile\",\"Guadeloupe\",\"United Arab Emirates\",\"Mexico\",\"Martinique\",\"Kazakhstan\",\"India\",\"Georgia\",\"Israel\",\"Macedonia\",\"Taiwan\",\"Singapore\",\"Moldova\",\"Jordan\",\"Cyprus\",\"Bahamas\",\"Aruba\",\"Afghanistan\",\"Uruguay\",\"Thailand\",\"Syria\",\"Suriname\",\"San Marino\",\"Dominican Republic\",\"French Polynesia\",\"Pakistan\",\"Malaysia\",\"Iran\",\"Guatemala\",\"Gibraltar\",\"Ghana\",\"Ecuador\",\"Cameroon\",\"Azerbaijan\",\"Korea\",\"Netherlands\",\"Zimbabwe\",\"Zambia\",\"Yemen\",\"Wallis and Futuna\",\"Vietnam\",\"Venezuela\",\"Vanuatu\",\"Tuvalu\",\"Turkemenistan\",\"Tunisia\",\"Trinidad and Tobago\",\"Tonga\",\"Tokelau\",\"Togo\",\"Timor-Leste\",\"British Indian Ocean Territory\",\"French Southern Territories\",\"Chad\",\"Tanzania\",\"Tajikstan\",\"Swaziland\",\"Sudan\",\"Somalia\",\"Sierra Leone\",\"Seychelles\",\"Sao Tome and Principe\",\"American Samoa\",\"Samoa\",\"El Salvador\",\"Saint Lucia\",\"Saint Helena\",\"Saint Vincent and the Grenadines\",\"Vatican City\",\"Saint Pierre and Miquelon\",\"Saint Kitts and Nevis\",\"Western Sahara\",\"Senegal\",\"Rwanda\",\"Congo - Kinshasa\",\"Central African Republic\",\"Qatar\",\"Philippines\",\"Paraguay\",\"Papua New Guinea\",\"Panama\",\"Peru\",\"Uzbekistan\",\"Uganda\",\"Oman\",\"New Caledonia\",\"Niue\",\"Nigeria\",\"Niger\",\"Nicaragua\",\"Nauru\",\"Namibia\",\"Nepal\",\"Mozambique\",\"Montserrat\",\"Mongolia\",\"Micronesia\",\"Mayotte\",\"Mauritiana\",\"Mauritius\",\"Northern Mariana Islands\",\"Mali\",\"Maldives\",\"Malawi\",\"Madagascar\",\"Macau SAR China\",\"Libya\",\"Liberia\",\"Lebanon\",\"Lesotho\",\"Laos\",\"Kuwait\",\"Kiribati\",\"Kyrgyzstan\",\"Kenya\",\"Jamaica\",\"Iraq\",\"Indonesia\",\"U.S Minor Outlying Islands\",\"Cocos [Keeling] Islands\",\"British Virgin Islands\",\"U.S Virgin Islands\",\"Turks and Caicos Islands\",\"Svalbard and Jan Mayen\",\"Solomon Islands\",\"Pitcairn Islands\",\"Marshall Islands\",\"Heard Island and McDonald Islands\",\"South Georgia and the South Sandwich Islands\",\"Fiji\",\"Falkland Islands\",\"Cook Islands\",\"Norfolk Island\",\"Christmas Island\",\"Bouvet Island\",\"Honduras\",\"Haiti\",\"French Guiana\",\"Guyana\",\"Guinea-Bissau\",\"Equatorial Guinea\",\"Guinea\",\"Guam\",\"Greenland\",\"Grenada\",\"Gambia\",\"Gabon\",\"Ethiopia\",\"Eritrea\",\"Egypt\",\"Dominica\",\"Djibouti\",\"Cuba\",\"Costa Rica\",\"North Korea\",\"Congo - Brazzaville\",\"Comoros\",\"Colombia\",\"Cape Verde\",\"Cambodia\",\"Cote d'Ivoire\",\"Burundi\",\"Burkina Faso\",\"Brunei\",\"Botswana\",\"Bolivia\",\"Myanmar [Burma]\",\"Bhutan\",\"Bermuda\",\"Belize\",\"Palau\",\"Barbados\",\"Bangladesh\",\"Bahrain\",\"Benin\",\"Armenia\",\"Argentina\",\"Saudi Arabia\",\"Netherlands Antilles\",\"Antigua and Barbuda\",\"Antarctica\",\"Anguilla\",\"Angola\",\"Algeria\"],\"locationssrc\" : \"Dreamshot:9297:009d61\",\"showscale\" : true,\"zauto\" : false,\"zmax\" : 5000,\"zmin\" : 0,\"zsrc\" : \"Dreamshot:9297:7e6159\"}],\"layout\" : {\"height\" : 500},\"frames\" : [{\"name\" : \"workspace-breakpoint-0\",\"layout\" : {\"width\" : 400,\"height\" : 300,\"title\" : \"<br>EV Charge Points Installed in 2017\",\"autosize\" : false,\"font\" : {\"size\" : 10},\"geo\" : {\"projection\" : {\"type\" : \"winkel tripel\",\"rotation\" : {\"lat\" : 34.662282795176594,\"lon\" : 278.42526492779285},\"scale\" : 1.5932801925711653},\"center\" : {\"lat\" : 76.156725115232689,\"lon\" : -81.574735072207119}},\"hovermode\" : \"closest\",\"margin\" : {\"b\" : 40,\"l\" : 40,\"r\" : 40,\"t\" : 75},\"titlefont\" : {\"family\" : \"Overpass\",\"size\" : 12}}}]},\"tool\" : \"plotly\"}\n",
       ",function(element,visualization){\n",
       "});\n",
       "}if(window.librariesLoadedFromGAP.hasOwnProperty(\"viz-tool-plotly\"\n",
       ")){myCallback()}else{var filenameString=JSON.stringify(\"viz-tool-plotly\"\n",
       ");var GAPcode=\"JUPVIZFileContents( LoadJavaScriptFile( \"+filenameString+\" ) );\";window.runGAP(GAPcode,function(result,error){if(error)throw Error(\"When loading library \"+filenameString+\": \"+error);result=result[\"text/plain\"];window.librariesLoadedFromGAP[\"viz-tool-plotly\"\n",
       "]=result;try{var whatItEvaluatesTo=eval(result)}catch(e){throw Error(\"Error evaluating code for library \"+filenameString+\": \"+e)}return myCallback()})}\n",
       "}if(window.librariesLoadedFromGAP.hasOwnProperty(\"main\"\n",
       ")){myCallback()}else{var filenameString=JSON.stringify(\"main\"\n",
       ");var GAPcode=\"JUPVIZFileContents( LoadJavaScriptFile( \"+filenameString+\" ) );\";window.runGAP(GAPcode,function(result,error){if(error)throw Error(\"When loading library \"+filenameString+\": \"+error);result=result[\"text/plain\"];window.librariesLoadedFromGAP[\"main\"\n",
       "]=result;try{var whatItEvaluatesTo=eval(result)}catch(e){throw Error(\"Error evaluating code for library \"+filenameString+\": \"+e)}return myCallback()})}\n",
       ";\n",
       "} )( element.get( 0 ) )"
      ]
     },
     "execution_count": 7,
     "metadata": {
      "application/javascript": ""
     },
     "output_type": "execute_result"
    }
   ],
   "source": [
    "map := JsonStringToGap(\n",
    "    ReadAll( InputTextFile( \"EV Charge Points.json\" ) ) );;\n",
    "map.layout := rec( height := 500 );;\n",
    "CreateVisualization( rec(\n",
    "    tool := \"plotly\",\n",
    "    data := map\n",
    "), \"\" );"
   ]
  },
  {
   "cell_type": "markdown",
   "metadata": {},
   "source": [
    "## Test visualization with [ChartJS](https://www.chartjs.org/)\n",
    "\n",
    "For $n=1$ to $30$, how many groups are there of size $n$?\n",
    "\n",
    "Hover the graph for more information."
   ]
  },
  {
   "cell_type": "code",
   "execution_count": 8,
   "metadata": {},
   "outputs": [
    {
     "data": {
      "application/javascript": [
       "( function ( element ) {\n",
       "if(!window.hasOwnProperty(\"runGAP\")){window.runGAP=function(code,callback){if(!Jupyter||!Jupyter.notebook||!Jupyter.notebook.kernel)return callback(null,\"JavaScript-based output must be re-evaluated when the notebook\"+\" is reloaded.  (Re-run the cell to clear this problem.)\");var errorMessages=[];var timeout=null;Jupyter.notebook.kernel.execute(code,{iopub:{output:function(message){if(\"data\"in message.content)return callback(message.content.data,null);if(!(\"text\"in message.content))return callback(null,message.content);errorMessages.push(message.content.text);if(timeout!==null)clearTimeout(timeout);timeout=setTimeout(function(){callback(null,errorMessages.join(\"\\n\"))},200)},clear_output:function(message){}},shell:{reply:function(message){}},input:function(message){}},{})}}if(!window.hasOwnProperty(\"librariesLoadedFromGAP\")){window.librariesLoadedFromGAP={}}function myCallback(){if(!window.hasOwnProperty(\"librariesLoadedFromGAP\")){window.librariesLoadedFromGAP={}}function myCallback(){window.createVisualization(element,{\"data\" : {\"type\" : \"line\",\"data\" : {\"labels\" : [1,2,3,4,5,6,7,8,9,10,11,12,13,14,15,16,17,18,19,20,21,22,23,24,25,26,27,28,29,30],\"datasets\" : [{\"data\" : [1,1,1,2,1,2,1,5,2,2,1,5,1,2,1,14,1,5,1,5,2,2,1,15,2,2,5,4,1,4],\"label\" : \"Number of groups of order n\"}]}},\"tool\" : \"chartjs\"}\n",
       ",function(element,visualization){\n",
       "});\n",
       "}if(window.librariesLoadedFromGAP.hasOwnProperty(\"viz-tool-chartjs\"\n",
       ")){myCallback()}else{var filenameString=JSON.stringify(\"viz-tool-chartjs\"\n",
       ");var GAPcode=\"JUPVIZFileContents( LoadJavaScriptFile( \"+filenameString+\" ) );\";window.runGAP(GAPcode,function(result,error){if(error)throw Error(\"When loading library \"+filenameString+\": \"+error);result=result[\"text/plain\"];window.librariesLoadedFromGAP[\"viz-tool-chartjs\"\n",
       "]=result;try{var whatItEvaluatesTo=eval(result)}catch(e){throw Error(\"Error evaluating code for library \"+filenameString+\": \"+e)}return myCallback()})}\n",
       "}if(window.librariesLoadedFromGAP.hasOwnProperty(\"main\"\n",
       ")){myCallback()}else{var filenameString=JSON.stringify(\"main\"\n",
       ");var GAPcode=\"JUPVIZFileContents( LoadJavaScriptFile( \"+filenameString+\" ) );\";window.runGAP(GAPcode,function(result,error){if(error)throw Error(\"When loading library \"+filenameString+\": \"+error);result=result[\"text/plain\"];window.librariesLoadedFromGAP[\"main\"\n",
       "]=result;try{var whatItEvaluatesTo=eval(result)}catch(e){throw Error(\"Error evaluating code for library \"+filenameString+\": \"+e)}return myCallback()})}\n",
       ";\n",
       "} )( element.get( 0 ) )"
      ]
     },
     "execution_count": 8,
     "metadata": {
      "application/javascript": ""
     },
     "output_type": "execute_result"
    }
   ],
   "source": [
    "CreateVisualization( rec(\n",
    "    tool := \"chartjs\",\n",
    "    data := rec(\n",
    "        type := \"line\",\n",
    "        data := rec(\n",
    "            labels := [1..30],\n",
    "            datasets := [\n",
    "                rec(\n",
    "                    label := \"Number of groups of order n\",\n",
    "                    data := List( [1..30], n -> NrSmallGroups( n ) )\n",
    "                ),\n",
    "            ]\n",
    "        )\n",
    "    )\n",
    "), \"\" );"
   ]
  },
  {
   "cell_type": "markdown",
   "metadata": {},
   "source": [
    "## Test visualization with [CanvasJS](https://canvasjs.com/)\n",
    "\n",
    "Just graphing 10 random integers in the range $\\{1,\\ldots,100\\}$.\n",
    "\n",
    "Hover the graph for more \"information.\""
   ]
  },
  {
   "cell_type": "code",
   "execution_count": 10,
   "metadata": {},
   "outputs": [
    {
     "data": {
      "application/javascript": [
       "( function ( element ) {\n",
       "if(!window.hasOwnProperty(\"runGAP\")){window.runGAP=function(code,callback){if(!Jupyter||!Jupyter.notebook||!Jupyter.notebook.kernel)return callback(null,\"JavaScript-based output must be re-evaluated when the notebook\"+\" is reloaded.  (Re-run the cell to clear this problem.)\");var errorMessages=[];var timeout=null;Jupyter.notebook.kernel.execute(code,{iopub:{output:function(message){if(\"data\"in message.content)return callback(message.content.data,null);if(!(\"text\"in message.content))return callback(null,message.content);errorMessages.push(message.content.text);if(timeout!==null)clearTimeout(timeout);timeout=setTimeout(function(){callback(null,errorMessages.join(\"\\n\"))},200)},clear_output:function(message){}},shell:{reply:function(message){}},input:function(message){}},{})}}if(!window.hasOwnProperty(\"librariesLoadedFromGAP\")){window.librariesLoadedFromGAP={}}function myCallback(){if(!window.hasOwnProperty(\"librariesLoadedFromGAP\")){window.librariesLoadedFromGAP={}}function myCallback(){window.createVisualization(element,{\"data\" : {\"width\" : 400,\"data\" : [{\"type\" : \"column\",\"dataPoints\" : [{\"x\" : 1,\"y\" : 74},{\"x\" : 2,\"y\" : 17},{\"x\" : 3,\"y\" : 8},{\"x\" : 4,\"y\" : 45},{\"x\" : 5,\"y\" : 79},{\"x\" : 6,\"y\" : 65},{\"x\" : 7,\"y\" : 41},{\"x\" : 8,\"y\" : 100},{\"x\" : 9,\"y\" : 0},{\"x\" : 10,\"y\" : 79}]}],\"height\" : 300,\"title\" : {\"text\" : \"Some Random Numbers\"},\"theme\" : \"light2\",\"animationEnabled\" : true,\"axisY\" : {\"title\" : \"Random Values\",\"titleFontSize\" : 24}},\"tool\" : \"canvasjs\"}\n",
       ",function(element,visualization){\n",
       "});\n",
       "}if(window.librariesLoadedFromGAP.hasOwnProperty(\"viz-tool-canvasjs\"\n",
       ")){myCallback()}else{var filenameString=JSON.stringify(\"viz-tool-canvasjs\"\n",
       ");var GAPcode=\"JUPVIZFileContents( LoadJavaScriptFile( \"+filenameString+\" ) );\";window.runGAP(GAPcode,function(result,error){if(error)throw Error(\"When loading library \"+filenameString+\": \"+error);result=result[\"text/plain\"];window.librariesLoadedFromGAP[\"viz-tool-canvasjs\"\n",
       "]=result;try{var whatItEvaluatesTo=eval(result)}catch(e){throw Error(\"Error evaluating code for library \"+filenameString+\": \"+e)}return myCallback()})}\n",
       "}if(window.librariesLoadedFromGAP.hasOwnProperty(\"main\"\n",
       ")){myCallback()}else{var filenameString=JSON.stringify(\"main\"\n",
       ");var GAPcode=\"JUPVIZFileContents( LoadJavaScriptFile( \"+filenameString+\" ) );\";window.runGAP(GAPcode,function(result,error){if(error)throw Error(\"When loading library \"+filenameString+\": \"+error);result=result[\"text/plain\"];window.librariesLoadedFromGAP[\"main\"\n",
       "]=result;try{var whatItEvaluatesTo=eval(result)}catch(e){throw Error(\"Error evaluating code for library \"+filenameString+\": \"+e)}return myCallback()})}\n",
       ";\n",
       "} )( element.get( 0 ) )"
      ]
     },
     "execution_count": 10,
     "metadata": {
      "application/javascript": ""
     },
     "output_type": "execute_result"
    }
   ],
   "source": [
    "CreateVisualization( rec(\n",
    "    tool := \"canvasjs\",\n",
    "    data := rec(\n",
    "        animationEnabled := true,\n",
    "        width := 400,\n",
    "        height := 300,\n",
    "        theme := \"light2\",\n",
    "        title := rec( text := \"Some Random Numbers\" ),\n",
    "        axisY := rec(\n",
    "            title := \"Random Values\",\n",
    "            titleFontSize := 24\n",
    "        ),\n",
    "        data := [\n",
    "            rec(\n",
    "                type := \"column\",\n",
    "                dataPoints := List( [1..10],\n",
    "                    n -> rec( x := n, y := Random( 0, 100 ) )\n",
    "                )\n",
    "            )\n",
    "        ]\n",
    "    )\n",
    "), \"\" );"
   ]
  },
  {
   "cell_type": "markdown",
   "metadata": {},
   "source": [
    "## Test visualization with [AnyChart](https://www.anychart.com/)\n",
    "\n",
    "This one was downloaded from the [AnyChart gallery](https://www.anychart.com/products/anychart/gallery/) to show the flexibility of this toolkit, which is probably the most robust of all the ones shown on this page."
   ]
  },
  {
   "cell_type": "code",
   "execution_count": 12,
   "metadata": {},
   "outputs": [
    {
     "data": {
      "application/javascript": [
       "( function ( element ) {\n",
       "if(!window.hasOwnProperty(\"runGAP\")){window.runGAP=function(code,callback){if(!Jupyter||!Jupyter.notebook||!Jupyter.notebook.kernel)return callback(null,\"JavaScript-based output must be re-evaluated when the notebook\"+\" is reloaded.  (Re-run the cell to clear this problem.)\");var errorMessages=[];var timeout=null;Jupyter.notebook.kernel.execute(code,{iopub:{output:function(message){if(\"data\"in message.content)return callback(message.content.data,null);if(!(\"text\"in message.content))return callback(null,message.content);errorMessages.push(message.content.text);if(timeout!==null)clearTimeout(timeout);timeout=setTimeout(function(){callback(null,errorMessages.join(\"\\n\"))},200)},clear_output:function(message){}},shell:{reply:function(message){}},input:function(message){}},{})}}if(!window.hasOwnProperty(\"librariesLoadedFromGAP\")){window.librariesLoadedFromGAP={}}function myCallback(){if(!window.hasOwnProperty(\"librariesLoadedFromGAP\")){window.librariesLoadedFromGAP={}}function myCallback(){window.createVisualization(element,{\"data\" : {\"width\" : 600,\"height\" : 600,\"chart\" : {\"type\" : \"sunburst\",\"normal\" : {\"labels\" : {\"enabled\" : true,\"adjustFontSize\" : {\"width\" : true,\"height\" : true},\"zIndex\" : 32}},\"title\" : {\"text\" : \"Coffee Flavour Wheel\",\"enabled\" : true},\"enabled\" : true,\"credits\" : {\"enabled\" : false},\"leaves\" : {\"normal\" : {\"labels\" : {\"enabled\" : true,\"minFontSize\" : 8,\"textOverflow\" : \"...\"}},\"hovered\" : {\"labels\" : {}},\"selected\" : {\"labels\" : {}}},\"levels\" : [{\"index\" : -2,\"level\" : {\"normal\" : {\"labels\" : {\"position\" : \"radial\"}},\"hovered\" : {\"labels\" : {}},\"selected\" : {\"labels\" : {}}}}],\"treeData\" : {\"index\" : [\"id\"],\"children\" : [{\"treeDataItemData\" : {\"name\" : \"Aromas\",\"id\" : \"aromas\",\"fill\" : \"#cbbba0\"},\"children\" : [{\"treeDataItemData\" : {\"name\" : \"Enzymatic\",\"id\" : \"enzymatic\",\"fill\" : \"#f38967\"},\"children\" : [{\"treeDataItemData\" : {\"name\" : \"Flowery\",\"id\" : \"flowery\",\"fill\" : \"#edcf37\"},\"children\" : [{\"treeDataItemData\" : {\"name\" : \"Floral\",\"id\" : \"floral\"},\"children\" : [{\"treeDataItemData\" : {\"name\" : \"Coffee Blossom\",\"id\" : \"coffee-blossom\"}},{\"treeDataItemData\" : {\"name\" : \"Tea Rose\",\"id\" : \"tea-rose\"}}]},{\"treeDataItemData\" : {\"name\" : \"Fragrant\",\"id\" : \"fragrant\"},\"children\" : [{\"treeDataItemData\" : {\"name\" : \"Cardamon Caraway\",\"id\" : \"cardamon-caraway\"}},{\"treeDataItemData\" : {\"name\" : \"Coriander Seeds\",\"id\" : \"coriander-seeds\"}}]}]},{\"treeDataItemData\" : {\"name\" : \"Fruity\",\"id\" : \"fruity\",\"fill\" : \"#da943b\"},\"children\" : [{\"treeDataItemData\" : {\"name\" : \"Citrus\",\"id\" : \"citrus\"},\"children\" : [{\"treeDataItemData\" : {\"name\" : \"Lemon\",\"id\" : \"lemon\"}},{\"treeDataItemData\" : {\"name\" : \"Apple\",\"id\" : \"apple\"}}]},{\"treeDataItemData\" : {\"name\" : \"Berry-like\",\"id\" : \"berry-like\"},\"children\" : [{\"treeDataItemData\" : {\"name\" : \"Apricot\",\"id\" : \"apricot\"}},{\"treeDataItemData\" : {\"name\" : \"Blackberry\",\"id\" : \"blackberry\"}}]}]},{\"treeDataItemData\" : {\"name\" : \"Herby\",\"id\" : \"herby\",\"fill\" : \"#9ba776\"},\"children\" : [{\"treeDataItemData\" : {\"name\" : \"Alliaceous\",\"id\" : \"alliaceous\"},\"children\" : [{\"treeDataItemData\" : {\"name\" : \"Onion\",\"id\" : \"onion\"}},{\"treeDataItemData\" : {\"name\" : \"Garlic\",\"id\" : \"garlic\"}}]},{\"treeDataItemData\" : {\"name\" : \"Leguminous\",\"id\" : \"leguminous\"},\"children\" : [{\"treeDataItemData\" : {\"name\" : \"Cucumber\",\"id\" : \"cucumber\"}},{\"treeDataItemData\" : {\"name\" : \"Garden Peas\",\"id\" : \"garden-peas\"}}]}]}]},{\"treeDataItemData\" : {\"name\" : \"Sugar Browning\",\"id\" : \"sugar-browning\",\"fill\" : \"#795841\"},\"children\" : [{\"treeDataItemData\" : {\"name\" : \"Nutty\",\"id\" : \"nutty\",\"fill\" : \"#8b5d2d\"},\"children\" : [{\"treeDataItemData\" : {\"name\" : \"Nut-like\",\"id\" : \"nut-like\"},\"children\" : [{\"treeDataItemData\" : {\"name\" : \"Roasted Peanuts\",\"id\" : \"roasted-peanuts\"}},{\"treeDataItemData\" : {\"name\" : \"Walnuts\",\"id\" : \"walnuts\"}}]},{\"treeDataItemData\" : {\"name\" : \"Malt-like\",\"id\" : \"malt-like\"},\"children\" : [{\"treeDataItemData\" : {\"name\" : \"Balsamic Rice\",\"id\" : \"balsamic-rice\"}},{\"treeDataItemData\" : {\"name\" : \"Toast\",\"id\" : \"toast\"}}]}]},{\"treeDataItemData\" : {\"name\" : \"Carmelly\",\"id\" : \"carmelly\",\"fill\" : \"#d08631\"},\"children\" : [{\"treeDataItemData\" : {\"name\" : \"Candy-like\",\"id\" : \"candy-like\"},\"children\" : [{\"treeDataItemData\" : {\"name\" : \"Roasted Hazelnut\",\"id\" : \"roasted-hazelnut\"}},{\"treeDataItemData\" : {\"name\" : \"Roasted Almond\",\"id\" : \"roasted-almond\"}}]},{\"treeDataItemData\" : {\"name\" : \"Syrup-like\",\"id\" : \"syrup-like\"},\"children\" : [{\"treeDataItemData\" : {\"name\" : \"Honey\",\"id\" : \"honey\"}},{\"treeDataItemData\" : {\"name\" : \"Maple Syrup\",\"id\" : \"maple-syrup\"}}]}]},{\"treeDataItemData\" : {\"name\" : \"Chocolatey\",\"id\" : \"chocolatey\",\"fill\" : \"#7f4636\"},\"children\" : [{\"treeDataItemData\" : {\"name\" : \"Chocolate-like\",\"id\" : \"chocolate-like\"},\"children\" : [{\"treeDataItemData\" : {\"name\" : \"Bakers\",\"id\" : \"bakers\"}},{\"treeDataItemData\" : {\"name\" : \"Dark Chocolate\",\"id\" : \"dark-chocolate\"}}]},{\"treeDataItemData\" : {\"name\" : \"Vanilla-like\",\"id\" : \"vanilla-like\"},\"children\" : [{\"treeDataItemData\" : {\"name\" : \"Swiss\",\"id\" : \"swiss\"}},{\"treeDataItemData\" : {\"name\" : \"Butter\",\"id\" : \"butter\"}}]}]}]},{\"treeDataItemData\" : {\"name\" : \"Dry Distillation\",\"id\" : \"dry-distillation\",\"fill\" : \"#357ca5\"},\"children\" : [{\"treeDataItemData\" : {\"name\" : \"Resinous\",\"id\" : \"resinous\",\"fill\" : \"#5e4e7b\"},\"children\" : [{\"treeDataItemData\" : {\"name\" : \"Turpeny\",\"id\" : \"turpeny\"},\"children\" : [{\"treeDataItemData\" : {\"name\" : \"Piney\",\"id\" : \"piney\"}},{\"treeDataItemData\" : {\"name\" : \"Blackcurrant-like\",\"id\" : \"blackcurrant-like\"}}]},{\"treeDataItemData\" : {\"name\" : \"Medicinal\",\"id\" : \"medicinal\"},\"children\" : [{\"treeDataItemData\" : {\"name\" : \"Camphoric\",\"id\" : \"camphoric\"}},{\"treeDataItemData\" : {\"name\" : \"Cineolic\",\"id\" : \"cineolic\"}}]}]},{\"treeDataItemData\" : {\"name\" : \"Spicy\",\"id\" : \"spicy\",\"fill\" : \"#8d3974\"},\"children\" : [{\"treeDataItemData\" : {\"name\" : \"Warming\",\"id\" : \"warming\"},\"children\" : [{\"treeDataItemData\" : {\"name\" : \"Cedar\",\"id\" : \"cedar\"}},{\"treeDataItemData\" : {\"name\" : \"Pepper\",\"id\" : \"pepper\"}}]},{\"treeDataItemData\" : {\"name\" : \"Pungent\",\"id\" : \"aromas-pungent\"},\"children\" : [{\"treeDataItemData\" : {\"name\" : \"Clove\",\"id\" : \"clove\"}},{\"treeDataItemData\" : {\"name\" : \"Thyme\",\"id\" : \"thyme\"}}]}]},{\"treeDataItemData\" : {\"name\" : \"Carbony\",\"id\" : \"carbony\",\"fill\" : \"#602268\"},\"children\" : [{\"treeDataItemData\" : {\"name\" : \"Smokey\",\"id\" : \"smokey\"},\"children\" : [{\"treeDataItemData\" : {\"name\" : \"Tarry\",\"id\" : \"tarry\"}},{\"treeDataItemData\" : {\"name\" : \"Pipe Tobacco\",\"id\" : \"pipe-tobacco\"}}]},{\"treeDataItemData\" : {\"name\" : \"Ashy\",\"id\" : \"ashy\"},\"children\" : [{\"treeDataItemData\" : {\"name\" : \"Burnt\",\"id\" : \"burnt\"}},{\"treeDataItemData\" : {\"name\" : \"Charred\",\"id\" : \"charred\"}}]}]}]}]},{\"treeDataItemData\" : {\"name\" : \"Tastes\",\"id\" : \"tastes\",\"fill\" : \"#634e42\"},\"children\" : [{\"treeDataItemData\" : {\"name\" : \"Bitter\",\"id\" : \"bitter\",\"fill\" : \"#575756\"},\"children\" : [{\"treeDataItemData\" : {\"name\" : \"Pungent\",\"id\" : \"tastes-pungent\",\"fill\" : \"#9c81a8\"},\"children\" : [{\"treeDataItemData\" : {\"name\" : \"Creosol\",\"id\" : \"creosol\"}},{\"treeDataItemData\" : {\"name\" : \"Phenolic\",\"id\" : \"phenolic\"}}]},{\"treeDataItemData\" : {\"name\" : \"Harsh\",\"id\" : \"harsh\",\"fill\" : \"#e85381\"},\"children\" : [{\"treeDataItemData\" : {\"name\" : \"Caustic\",\"id\" : \"caustic\"}},{\"treeDataItemData\" : {\"name\" : \"Alkaline\",\"id\" : \"alkaline\"}}]}]},{\"treeDataItemData\" : {\"name\" : \"Salt\",\"id\" : \"salt\",\"fill\" : \"#a30d1c\"},\"children\" : [{\"treeDataItemData\" : {\"name\" : \"Sharp\",\"id\" : \"sharp\",\"fill\" : \"#db7773\"},\"children\" : [{\"treeDataItemData\" : {\"name\" : \"Astringent\",\"id\" : \"astringent\"}},{\"treeDataItemData\" : {\"name\" : \"Rough\",\"id\" : \"rough\"}}]},{\"treeDataItemData\" : {\"name\" : \"Bland\",\"id\" : \"bland\",\"fill\" : \"#f2a569\"},\"children\" : [{\"treeDataItemData\" : {\"name\" : \"Neutral\",\"id\" : \"neutral\"}},{\"treeDataItemData\" : {\"name\" : \"Soft\",\"id\" : \"soft\"}}]}]},{\"treeDataItemData\" : {\"name\" : \"Sweet\",\"id\" : \"sweet\",\"fill\" : \"#6f1547\"},\"children\" : [{\"treeDataItemData\" : {\"name\" : \"Mellow\",\"id\" : \"mellow\",\"fill\" : \"#f1bf71\"},\"children\" : [{\"treeDataItemData\" : {\"name\" : \"Delicate\",\"id\" : \"delicate\"}},{\"treeDataItemData\" : {\"name\" : \"Mild\",\"id\" : \"mild\"}}]},{\"treeDataItemData\" : {\"name\" : \"Acidy\",\"id\" : \"acidy\",\"fill\" : \"#edd529\"},\"children\" : [{\"treeDataItemData\" : {\"name\" : \"Nippy\",\"id\" : \"nippy\"}},{\"treeDataItemData\" : {\"name\" : \"Piquant\",\"id\" : \"piquant\"}}]}]},{\"treeDataItemData\" : {\"name\" : \"Sour\",\"id\" : \"sour\",\"fill\" : \"#00814e\"},\"children\" : [{\"treeDataItemData\" : {\"name\" : \"Winey\",\"id\" : \"winey\",\"fill\" : \"#c8cd80\"},\"children\" : [{\"treeDataItemData\" : {\"name\" : \"Tangy\",\"id\" : \"tangy\"}},{\"treeDataItemData\" : {\"name\" : \"Tart\",\"id\" : \"tart\"}}]},{\"treeDataItemData\" : {\"name\" : \"Soury\",\"id\" : \"soury\",\"fill\" : \"#e5dc65\"},\"children\" : [{\"treeDataItemData\" : {\"name\" : \"Hard\",\"id\" : \"hard\"}},{\"treeDataItemData\" : {\"name\" : \"Acrid\",\"id\" : \"acrid\"}}]}]}]}],\"rootMapping\" : {}}}},\"tool\" : \"anychart\"}\n",
       ",function(element,visualization){\n",
       "});\n",
       "}if(window.librariesLoadedFromGAP.hasOwnProperty(\"viz-tool-anychart\"\n",
       ")){myCallback()}else{var filenameString=JSON.stringify(\"viz-tool-anychart\"\n",
       ");var GAPcode=\"JUPVIZFileContents( LoadJavaScriptFile( \"+filenameString+\" ) );\";window.runGAP(GAPcode,function(result,error){if(error)throw Error(\"When loading library \"+filenameString+\": \"+error);result=result[\"text/plain\"];window.librariesLoadedFromGAP[\"viz-tool-anychart\"\n",
       "]=result;try{var whatItEvaluatesTo=eval(result)}catch(e){throw Error(\"Error evaluating code for library \"+filenameString+\": \"+e)}return myCallback()})}\n",
       "}if(window.librariesLoadedFromGAP.hasOwnProperty(\"main\"\n",
       ")){myCallback()}else{var filenameString=JSON.stringify(\"main\"\n",
       ");var GAPcode=\"JUPVIZFileContents( LoadJavaScriptFile( \"+filenameString+\" ) );\";window.runGAP(GAPcode,function(result,error){if(error)throw Error(\"When loading library \"+filenameString+\": \"+error);result=result[\"text/plain\"];window.librariesLoadedFromGAP[\"main\"\n",
       "]=result;try{var whatItEvaluatesTo=eval(result)}catch(e){throw Error(\"Error evaluating code for library \"+filenameString+\": \"+e)}return myCallback()})}\n",
       ";\n",
       "} )( element.get( 0 ) )"
      ]
     },
     "execution_count": 12,
     "metadata": {
      "application/javascript": ""
     },
     "output_type": "execute_result"
    }
   ],
   "source": [
    "CreateVisualization( rec(\n",
    "    tool := \"anychart\",\n",
    "    data := JsonStringToGap(\n",
    "        ReadAll( InputTextFile( \"anychart-sample.json\" ) ) )\n",
    "), \"\" );"
   ]
  },
  {
   "cell_type": "markdown",
   "metadata": {},
   "source": [
    "## Test visualization with [Cytoscape](http://js.cytoscape.org/)\n",
    "\n",
    "This simple graph was taken [from the Cytoscape documentation](http://js.cytoscape.org/#core/initialisation) and slightly manipulated as part of this test."
   ]
  },
  {
   "cell_type": "code",
   "execution_count": 14,
   "metadata": {},
   "outputs": [
    {
     "data": {
      "application/javascript": [
       "( function ( element ) {\n",
       "if(!window.hasOwnProperty(\"runGAP\")){window.runGAP=function(code,callback){if(!Jupyter||!Jupyter.notebook||!Jupyter.notebook.kernel)return callback(null,\"JavaScript-based output must be re-evaluated when the notebook\"+\" is reloaded.  (Re-run the cell to clear this problem.)\");var errorMessages=[];var timeout=null;Jupyter.notebook.kernel.execute(code,{iopub:{output:function(message){if(\"data\"in message.content)return callback(message.content.data,null);if(!(\"text\"in message.content))return callback(null,message.content);errorMessages.push(message.content.text);if(timeout!==null)clearTimeout(timeout);timeout=setTimeout(function(){callback(null,errorMessages.join(\"\\n\"))},200)},clear_output:function(message){}},shell:{reply:function(message){}},input:function(message){}},{})}}if(!window.hasOwnProperty(\"librariesLoadedFromGAP\")){window.librariesLoadedFromGAP={}}function myCallback(){if(!window.hasOwnProperty(\"librariesLoadedFromGAP\")){window.librariesLoadedFromGAP={}}function myCallback(){window.createVisualization(element,{\"data\" : {\"elements\" : [{\"data\" : {\"id\" : \"Child1\",\"parent\" : \"Parent\"},\"group\" : \"nodes\",\"position\" : {\"x\" : 100,\"y\" : 100},\"selected\" : false,\"selectable\" : true,\"locked\" : false,\"grabbable\" : true},{\"data\" : {\"id\" : \"Friend\"},\"renderedPosition\" : {\"x\" : 200,\"y\" : 200}},{\"data\" : {\"id\" : \"Child2\",\"parent\" : \"Parent\"},\"position\" : {\"x\" : 123,\"y\" : 234}},{\"data\" : {\"position\" : {\"x\" : 200,\"y\" : 100},\"id\" : \"Parent\"}},{\"data\" : {\"source\" : \"Child1\",\"id\" : \"Edge1\",\"target\" : \"Friend\"}}],\"layout\" : {\"name\" : \"preset\"},\"style\" : [{\"style\" : {\"content\" : \"data(id)\"},\"selector\" : \"node\"}]},\"height\" : 400,\"tool\" : \"cytoscape\"}\n",
       ",function(element,visualization){\n",
       "});\n",
       "}if(window.librariesLoadedFromGAP.hasOwnProperty(\"viz-tool-cytoscape\"\n",
       ")){myCallback()}else{var filenameString=JSON.stringify(\"viz-tool-cytoscape\"\n",
       ");var GAPcode=\"JUPVIZFileContents( LoadJavaScriptFile( \"+filenameString+\" ) );\";window.runGAP(GAPcode,function(result,error){if(error)throw Error(\"When loading library \"+filenameString+\": \"+error);result=result[\"text/plain\"];window.librariesLoadedFromGAP[\"viz-tool-cytoscape\"\n",
       "]=result;try{var whatItEvaluatesTo=eval(result)}catch(e){throw Error(\"Error evaluating code for library \"+filenameString+\": \"+e)}return myCallback()})}\n",
       "}if(window.librariesLoadedFromGAP.hasOwnProperty(\"main\"\n",
       ")){myCallback()}else{var filenameString=JSON.stringify(\"main\"\n",
       ");var GAPcode=\"JUPVIZFileContents( LoadJavaScriptFile( \"+filenameString+\" ) );\";window.runGAP(GAPcode,function(result,error){if(error)throw Error(\"When loading library \"+filenameString+\": \"+error);result=result[\"text/plain\"];window.librariesLoadedFromGAP[\"main\"\n",
       "]=result;try{var whatItEvaluatesTo=eval(result)}catch(e){throw Error(\"Error evaluating code for library \"+filenameString+\": \"+e)}return myCallback()})}\n",
       ";\n",
       "} )( element.get( 0 ) )"
      ]
     },
     "execution_count": 14,
     "metadata": {
      "application/javascript": ""
     },
     "output_type": "execute_result"
    }
   ],
   "source": [
    "CreateVisualization( rec(\n",
    "    tool := \"cytoscape\",\n",
    "    height := 400,\n",
    "    data := rec(\n",
    "        elements := [\n",
    "            rec( # node 1\n",
    "                group := \"nodes\",\n",
    "                data := rec( id := \"Child1\", parent := \"Parent\" ),\n",
    "                position := rec( x := 100, y := 100 ),\n",
    "                selected := false,\n",
    "                selectable := true,\n",
    "                locked := false,\n",
    "                grabbable := true\n",
    "            ),\n",
    "            rec( # node 2\n",
    "                data := rec( id := \"Friend\" ),\n",
    "                renderedPosition := rec( x := 200, y := 200 )\n",
    "            ),\n",
    "            rec( # node 3\n",
    "                data := rec( id := \"Child2\", parent := \"Parent\" ),\n",
    "                position := rec( x := 123, y := 234 )\n",
    "            ),\n",
    "            rec( # node parent\n",
    "                data := rec( id := \"Parent\", position := rec( x := 200, y := 100 ) )\n",
    "            ),\n",
    "            rec( # edge 1\n",
    "                data := rec( id := \"Edge1\", source := \"Child1\", target := \"Friend\" )\n",
    "            )\n",
    "        ],\n",
    "        layout := rec( name := \"preset\" ),\n",
    "        style := [\n",
    "            rec( selector := \"node\", style := rec( content := \"data(id)\" ) )\n",
    "        ]\n",
    "    )\n",
    "), \"\" );"
   ]
  },
  {
   "cell_type": "markdown",
   "metadata": {},
   "source": [
    "## Test creation of a graph with GAP code, then using Cytoscape for layout"
   ]
  },
  {
   "cell_type": "code",
   "execution_count": 20,
   "metadata": {},
   "outputs": [
    {
     "data": {
      "application/javascript": [
       "( function ( element ) {\n",
       "if(!window.hasOwnProperty(\"runGAP\")){window.runGAP=function(code,callback){if(!Jupyter||!Jupyter.notebook||!Jupyter.notebook.kernel)return callback(null,\"JavaScript-based output must be re-evaluated when the notebook\"+\" is reloaded.  (Re-run the cell to clear this problem.)\");var errorMessages=[];var timeout=null;Jupyter.notebook.kernel.execute(code,{iopub:{output:function(message){if(\"data\"in message.content)return callback(message.content.data,null);if(!(\"text\"in message.content))return callback(null,message.content);errorMessages.push(message.content.text);if(timeout!==null)clearTimeout(timeout);timeout=setTimeout(function(){callback(null,errorMessages.join(\"\\n\"))},200)},clear_output:function(message){}},shell:{reply:function(message){}},input:function(message){}},{})}}if(!window.hasOwnProperty(\"librariesLoadedFromGAP\")){window.librariesLoadedFromGAP={}}function myCallback(){if(!window.hasOwnProperty(\"librariesLoadedFromGAP\")){window.librariesLoadedFromGAP={}}function myCallback(){window.createVisualization(element,{\"data\" : {\"elements\" : [{\"data\" : {\"id\" : \"2\"}},{\"data\" : {\"id\" : \"3\"}},{\"data\" : {\"id\" : \"4\"}},{\"data\" : {\"source\" : \"2\",\"target\" : \"4\"}},{\"data\" : {\"id\" : \"5\"}},{\"data\" : {\"id\" : \"6\"}},{\"data\" : {\"source\" : \"2\",\"target\" : \"6\"}},{\"data\" : {\"source\" : \"3\",\"target\" : \"6\"}},{\"data\" : {\"id\" : \"7\"}},{\"data\" : {\"id\" : \"8\"}},{\"data\" : {\"source\" : \"2\",\"target\" : \"8\"}},{\"data\" : {\"source\" : \"4\",\"target\" : \"8\"}},{\"data\" : {\"id\" : \"9\"}},{\"data\" : {\"source\" : \"3\",\"target\" : \"9\"}},{\"data\" : {\"id\" : \"10\"}},{\"data\" : {\"source\" : \"2\",\"target\" : \"10\"}},{\"data\" : {\"source\" : \"5\",\"target\" : \"10\"}},{\"data\" : {\"id\" : \"11\"}},{\"data\" : {\"id\" : \"12\"}},{\"data\" : {\"source\" : \"2\",\"target\" : \"12\"}},{\"data\" : {\"source\" : \"3\",\"target\" : \"12\"}},{\"data\" : {\"source\" : \"4\",\"target\" : \"12\"}},{\"data\" : {\"source\" : \"6\",\"target\" : \"12\"}},{\"data\" : {\"id\" : \"13\"}},{\"data\" : {\"id\" : \"14\"}},{\"data\" : {\"source\" : \"2\",\"target\" : \"14\"}},{\"data\" : {\"source\" : \"7\",\"target\" : \"14\"}},{\"data\" : {\"id\" : \"15\"}},{\"data\" : {\"source\" : \"3\",\"target\" : \"15\"}},{\"data\" : {\"source\" : \"5\",\"target\" : \"15\"}},{\"data\" : {\"id\" : \"16\"}},{\"data\" : {\"source\" : \"2\",\"target\" : \"16\"}},{\"data\" : {\"source\" : \"4\",\"target\" : \"16\"}},{\"data\" : {\"source\" : \"8\",\"target\" : \"16\"}},{\"data\" : {\"id\" : \"17\"}},{\"data\" : {\"id\" : \"18\"}},{\"data\" : {\"source\" : \"2\",\"target\" : \"18\"}},{\"data\" : {\"source\" : \"3\",\"target\" : \"18\"}},{\"data\" : {\"source\" : \"6\",\"target\" : \"18\"}},{\"data\" : {\"source\" : \"9\",\"target\" : \"18\"}},{\"data\" : {\"id\" : \"19\"}},{\"data\" : {\"id\" : \"20\"}},{\"data\" : {\"source\" : \"2\",\"target\" : \"20\"}},{\"data\" : {\"source\" : \"4\",\"target\" : \"20\"}},{\"data\" : {\"source\" : \"5\",\"target\" : \"20\"}},{\"data\" : {\"source\" : \"10\",\"target\" : \"20\"}},{\"data\" : {\"id\" : \"21\"}},{\"data\" : {\"source\" : \"3\",\"target\" : \"21\"}},{\"data\" : {\"source\" : \"7\",\"target\" : \"21\"}},{\"data\" : {\"id\" : \"22\"}},{\"data\" : {\"source\" : \"2\",\"target\" : \"22\"}},{\"data\" : {\"source\" : \"11\",\"target\" : \"22\"}},{\"data\" : {\"id\" : \"23\"}},{\"data\" : {\"id\" : \"24\"}},{\"data\" : {\"source\" : \"2\",\"target\" : \"24\"}},{\"data\" : {\"source\" : \"3\",\"target\" : \"24\"}},{\"data\" : {\"source\" : \"4\",\"target\" : \"24\"}},{\"data\" : {\"source\" : \"6\",\"target\" : \"24\"}},{\"data\" : {\"source\" : \"8\",\"target\" : \"24\"}},{\"data\" : {\"source\" : \"12\",\"target\" : \"24\"}},{\"data\" : {\"id\" : \"25\"}},{\"data\" : {\"source\" : \"5\",\"target\" : \"25\"}},{\"data\" : {\"id\" : \"26\"}},{\"data\" : {\"source\" : \"2\",\"target\" : \"26\"}},{\"data\" : {\"source\" : \"13\",\"target\" : \"26\"}},{\"data\" : {\"id\" : \"27\"}},{\"data\" : {\"source\" : \"3\",\"target\" : \"27\"}},{\"data\" : {\"source\" : \"9\",\"target\" : \"27\"}},{\"data\" : {\"id\" : \"28\"}},{\"data\" : {\"source\" : \"2\",\"target\" : \"28\"}},{\"data\" : {\"source\" : \"4\",\"target\" : \"28\"}},{\"data\" : {\"source\" : \"7\",\"target\" : \"28\"}},{\"data\" : {\"source\" : \"14\",\"target\" : \"28\"}},{\"data\" : {\"id\" : \"29\"}},{\"data\" : {\"id\" : \"30\"}},{\"data\" : {\"source\" : \"2\",\"target\" : \"30\"}},{\"data\" : {\"source\" : \"3\",\"target\" : \"30\"}},{\"data\" : {\"source\" : \"5\",\"target\" : \"30\"}},{\"data\" : {\"source\" : \"6\",\"target\" : \"30\"}},{\"data\" : {\"source\" : \"10\",\"target\" : \"30\"}},{\"data\" : {\"source\" : \"15\",\"target\" : \"30\"}},{\"data\" : {\"id\" : \"31\"}},{\"data\" : {\"id\" : \"32\"}},{\"data\" : {\"source\" : \"2\",\"target\" : \"32\"}},{\"data\" : {\"source\" : \"4\",\"target\" : \"32\"}},{\"data\" : {\"source\" : \"8\",\"target\" : \"32\"}},{\"data\" : {\"source\" : \"16\",\"target\" : \"32\"}},{\"data\" : {\"id\" : \"33\"}},{\"data\" : {\"source\" : \"3\",\"target\" : \"33\"}},{\"data\" : {\"source\" : \"11\",\"target\" : \"33\"}},{\"data\" : {\"id\" : \"34\"}},{\"data\" : {\"source\" : \"2\",\"target\" : \"34\"}},{\"data\" : {\"source\" : \"17\",\"target\" : \"34\"}},{\"data\" : {\"id\" : \"35\"}},{\"data\" : {\"source\" : \"5\",\"target\" : \"35\"}},{\"data\" : {\"source\" : \"7\",\"target\" : \"35\"}},{\"data\" : {\"id\" : \"36\"}},{\"data\" : {\"source\" : \"2\",\"target\" : \"36\"}},{\"data\" : {\"source\" : \"3\",\"target\" : \"36\"}},{\"data\" : {\"source\" : \"4\",\"target\" : \"36\"}},{\"data\" : {\"source\" : \"6\",\"target\" : \"36\"}},{\"data\" : {\"source\" : \"9\",\"target\" : \"36\"}},{\"data\" : {\"source\" : \"12\",\"target\" : \"36\"}},{\"data\" : {\"source\" : \"18\",\"target\" : \"36\"}},{\"data\" : {\"id\" : \"37\"}},{\"data\" : {\"id\" : \"38\"}},{\"data\" : {\"source\" : \"2\",\"target\" : \"38\"}},{\"data\" : {\"source\" : \"19\",\"target\" : \"38\"}},{\"data\" : {\"id\" : \"39\"}},{\"data\" : {\"source\" : \"3\",\"target\" : \"39\"}},{\"data\" : {\"source\" : \"13\",\"target\" : \"39\"}},{\"data\" : {\"id\" : \"40\"}},{\"data\" : {\"source\" : \"2\",\"target\" : \"40\"}},{\"data\" : {\"source\" : \"4\",\"target\" : \"40\"}},{\"data\" : {\"source\" : \"5\",\"target\" : \"40\"}},{\"data\" : {\"source\" : \"8\",\"target\" : \"40\"}},{\"data\" : {\"source\" : \"10\",\"target\" : \"40\"}},{\"data\" : {\"source\" : \"20\",\"target\" : \"40\"}},{\"data\" : {\"id\" : \"41\"}},{\"data\" : {\"id\" : \"42\"}},{\"data\" : {\"source\" : \"2\",\"target\" : \"42\"}},{\"data\" : {\"source\" : \"3\",\"target\" : \"42\"}},{\"data\" : {\"source\" : \"6\",\"target\" : \"42\"}},{\"data\" : {\"source\" : \"7\",\"target\" : \"42\"}},{\"data\" : {\"source\" : \"14\",\"target\" : \"42\"}},{\"data\" : {\"source\" : \"21\",\"target\" : \"42\"}},{\"data\" : {\"id\" : \"43\"}},{\"data\" : {\"id\" : \"44\"}},{\"data\" : {\"source\" : \"2\",\"target\" : \"44\"}},{\"data\" : {\"source\" : \"4\",\"target\" : \"44\"}},{\"data\" : {\"source\" : \"11\",\"target\" : \"44\"}},{\"data\" : {\"source\" : \"22\",\"target\" : \"44\"}},{\"data\" : {\"id\" : \"45\"}},{\"data\" : {\"source\" : \"3\",\"target\" : \"45\"}},{\"data\" : {\"source\" : \"5\",\"target\" : \"45\"}},{\"data\" : {\"source\" : \"9\",\"target\" : \"45\"}},{\"data\" : {\"source\" : \"15\",\"target\" : \"45\"}},{\"data\" : {\"id\" : \"46\"}},{\"data\" : {\"source\" : \"2\",\"target\" : \"46\"}},{\"data\" : {\"source\" : \"23\",\"target\" : \"46\"}},{\"data\" : {\"id\" : \"47\"}},{\"data\" : {\"id\" : \"48\"}},{\"data\" : {\"source\" : \"2\",\"target\" : \"48\"}},{\"data\" : {\"source\" : \"3\",\"target\" : \"48\"}},{\"data\" : {\"source\" : \"4\",\"target\" : \"48\"}},{\"data\" : {\"source\" : \"6\",\"target\" : \"48\"}},{\"data\" : {\"source\" : \"8\",\"target\" : \"48\"}},{\"data\" : {\"source\" : \"12\",\"target\" : \"48\"}},{\"data\" : {\"source\" : \"16\",\"target\" : \"48\"}},{\"data\" : {\"source\" : \"24\",\"target\" : \"48\"}},{\"data\" : {\"id\" : \"49\"}},{\"data\" : {\"source\" : \"7\",\"target\" : \"49\"}},{\"data\" : {\"id\" : \"50\"}},{\"data\" : {\"source\" : \"2\",\"target\" : \"50\"}},{\"data\" : {\"source\" : \"5\",\"target\" : \"50\"}},{\"data\" : {\"source\" : \"10\",\"target\" : \"50\"}},{\"data\" : {\"source\" : \"25\",\"target\" : \"50\"}}],\"layout\" : {\"name\" : \"cose\"},\"style\" : [{\"style\" : {\"content\" : \"data(id)\"},\"selector\" : \"node\"}]},\"height\" : 600,\"tool\" : \"cytoscape\"}\n",
       ",function(element,visualization){\n",
       "});\n",
       "}if(window.librariesLoadedFromGAP.hasOwnProperty(\"viz-tool-cytoscape\"\n",
       ")){myCallback()}else{var filenameString=JSON.stringify(\"viz-tool-cytoscape\"\n",
       ");var GAPcode=\"JUPVIZFileContents( LoadJavaScriptFile( \"+filenameString+\" ) );\";window.runGAP(GAPcode,function(result,error){if(error)throw Error(\"When loading library \"+filenameString+\": \"+error);result=result[\"text/plain\"];window.librariesLoadedFromGAP[\"viz-tool-cytoscape\"\n",
       "]=result;try{var whatItEvaluatesTo=eval(result)}catch(e){throw Error(\"Error evaluating code for library \"+filenameString+\": \"+e)}return myCallback()})}\n",
       "}if(window.librariesLoadedFromGAP.hasOwnProperty(\"main\"\n",
       ")){myCallback()}else{var filenameString=JSON.stringify(\"main\"\n",
       ");var GAPcode=\"JUPVIZFileContents( LoadJavaScriptFile( \"+filenameString+\" ) );\";window.runGAP(GAPcode,function(result,error){if(error)throw Error(\"When loading library \"+filenameString+\": \"+error);result=result[\"text/plain\"];window.librariesLoadedFromGAP[\"main\"\n",
       "]=result;try{var whatItEvaluatesTo=eval(result)}catch(e){throw Error(\"Error evaluating code for library \"+filenameString+\": \"+e)}return myCallback()})}\n",
       ";\n",
       "} )( element.get( 0 ) )"
      ]
     },
     "execution_count": 20,
     "metadata": {
      "application/javascript": ""
     },
     "output_type": "execute_result"
    }
   ],
   "source": [
    "N := 50;;\n",
    "elements := [ ];;\n",
    "roots := [ ];;\n",
    "for i in [2..N] do\n",
    "    Add( elements, rec( data := rec( id := String( i ) ) ) );\n",
    "    if IsPrime( i ) then\n",
    "        Add( roots, i );\n",
    "    fi;\n",
    "    for j in [2..i-1] do\n",
    "        if i mod j = 0 then\n",
    "            Add( elements, rec( data := rec( source := String( j ), target := String( i ) ) ) );\n",
    "        fi;\n",
    "    od;\n",
    "od;\n",
    "CreateVisualization( rec(\n",
    "    tool := \"cytoscape\",\n",
    "    height := 600,\n",
    "    data := rec(\n",
    "        elements := elements,\n",
    "        layout := rec( name := \"cose\" ),\n",
    "        style := [\n",
    "            rec( selector := \"node\", style := rec( content := \"data(id)\" ) )\n",
    "        ]\n",
    "    )\n",
    "), \"\" );"
   ]
  },
  {
   "cell_type": "markdown",
   "metadata": {},
   "source": [
    "## Test extending the library at runtime with new visualization tools"
   ]
  },
  {
   "cell_type": "code",
   "execution_count": 22,
   "metadata": {},
   "outputs": [
    {
     "data": {
      "text/plain": [
       "true"
      ]
     },
     "execution_count": 21,
     "metadata": {
      "text/plain": ""
     },
     "output_type": "execute_result"
    },
    {
     "data": {
      "application/javascript": [
       "( function ( element ) {\n",
       "if(!window.hasOwnProperty(\"runGAP\")){window.runGAP=function(code,callback){if(!Jupyter||!Jupyter.notebook||!Jupyter.notebook.kernel)return callback(null,\"JavaScript-based output must be re-evaluated when the notebook\"+\" is reloaded.  (Re-run the cell to clear this problem.)\");var errorMessages=[];var timeout=null;Jupyter.notebook.kernel.execute(code,{iopub:{output:function(message){if(\"data\"in message.content)return callback(message.content.data,null);if(!(\"text\"in message.content))return callback(null,message.content);errorMessages.push(message.content.text);if(timeout!==null)clearTimeout(timeout);timeout=setTimeout(function(){callback(null,errorMessages.join(\"\\n\"))},200)},clear_output:function(message){}},shell:{reply:function(message){}},input:function(message){}},{})}}if(!window.hasOwnProperty(\"librariesLoadedFromGAP\")){window.librariesLoadedFromGAP={}}function myCallback(){if(!window.hasOwnProperty(\"librariesLoadedFromGAP\")){window.librariesLoadedFromGAP={}}function myCallback(){window.createVisualization(element,{\"text\" : \"Hello, world.\",\"tool\" : \"redbox\"}\n",
       ",function(element,visualization){\n",
       "});\n",
       "}if(window.librariesLoadedFromGAP.hasOwnProperty(\"viz-tool-redbox\"\n",
       ")){myCallback()}else{var filenameString=JSON.stringify(\"viz-tool-redbox\"\n",
       ");var GAPcode=\"JUPVIZFileContents( LoadJavaScriptFile( \"+filenameString+\" ) );\";window.runGAP(GAPcode,function(result,error){if(error)throw Error(\"When loading library \"+filenameString+\": \"+error);result=result[\"text/plain\"];window.librariesLoadedFromGAP[\"viz-tool-redbox\"\n",
       "]=result;try{var whatItEvaluatesTo=eval(result)}catch(e){throw Error(\"Error evaluating code for library \"+filenameString+\": \"+e)}return myCallback()})}\n",
       "}if(window.librariesLoadedFromGAP.hasOwnProperty(\"main\"\n",
       ")){myCallback()}else{var filenameString=JSON.stringify(\"main\"\n",
       ");var GAPcode=\"JUPVIZFileContents( LoadJavaScriptFile( \"+filenameString+\" ) );\";window.runGAP(GAPcode,function(result,error){if(error)throw Error(\"When loading library \"+filenameString+\": \"+error);result=result[\"text/plain\"];window.librariesLoadedFromGAP[\"main\"\n",
       "]=result;try{var whatItEvaluatesTo=eval(result)}catch(e){throw Error(\"Error evaluating code for library \"+filenameString+\": \"+e)}return myCallback()})}\n",
       ";\n",
       "} )( element.get( 0 ) )"
      ]
     },
     "execution_count": 22,
     "metadata": {
      "application/javascript": ""
     },
     "output_type": "execute_result"
    }
   ],
   "source": [
    "InstallVisualizationToolFromTemplate(\n",
    "    \"redbox\",\n",
    "    \"element.innerHTML = '<div style=\\\"border: 10px solid red; padding: 1em;\\\">' + json.text + '</div>';\"\n",
    ");\n",
    "CreateVisualization( rec( tool := \"redbox\", text := \"Hello, world.\" ) );"
   ]
  },
  {
   "cell_type": "code",
   "execution_count": null,
   "metadata": {},
   "outputs": [],
   "source": []
  }
 ],
 "metadata": {
  "kernelspec": {
   "display_name": "GAP 4",
   "language": "gap",
   "name": "gap-4"
  },
  "language_info": {
   "codemirror_mode": "gap",
   "file_extension": ".g",
   "mimetype": "text/x-gap",
   "name": "GAP 4",
   "nbconvert_exporter": "",
   "pygments_lexer": "gap",
   "version": "4.9.2"
  }
 },
 "nbformat": 4,
 "nbformat_minor": 2
}
